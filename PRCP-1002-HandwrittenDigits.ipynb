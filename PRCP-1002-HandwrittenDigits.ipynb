{
 "cells": [
  {
   "cell_type": "code",
   "execution_count": 2,
   "id": "3f775759-52b1-48d5-bad1-6c390a740454",
   "metadata": {},
   "outputs": [],
   "source": [
    "import numpy as np\n",
    "import pandas as pd\n",
    "import matplotlib.pyplot as plt\n",
    "from sklearn.model_selection import train_test_split\n",
    "from sklearn.preprocessing import StandardScaler\n",
    "from sklearn.svm import SVC\n",
    "from sklearn.neighbors import KNeighborsClassifier\n",
    "from sklearn.metrics import accuracy_score, confusion_matrix, classification_report\n",
    "import tensorflow as tf\n",
    "from tensorflow import keras"
   ]
  },
  {
   "cell_type": "code",
   "execution_count": 3,
   "id": "f4e86cc4-2d2e-486d-b479-5784d6f7abc3",
   "metadata": {},
   "outputs": [
    {
     "name": "stdout",
     "output_type": "stream",
     "text": [
      "Training data shape: (60000, 28, 28)\n",
      "Testing data shape: (10000, 28, 28)\n"
     ]
    },
    {
     "data": {
      "image/png": "[encoded data removed]",
      "text/plain": [
       "<Figure size 1000x500 with 10 Axes>"
      ]
     },
     "metadata": {},
     "output_type": "display_data"
    }
   ],
   "source": [
    "# Load dataset from Keras\n",
    "from tensorflow.keras.datasets import mnist\n",
    "(X_train, y_train), (X_test, y_test) = mnist.load_data()\n",
    "\n",
    "# Print dataset shape\n",
    "print(\"Training data shape:\", X_train.shape)\n",
    "print(\"Testing data shape:\", X_test.shape)\n",
    "\n",
    "# Display some images from the dataset\n",
    "plt.figure(figsize=(10, 5))\n",
    "for i in range(10):\n",
    "    plt.subplot(2, 5, i + 1)\n",
    "    plt.imshow(X_train[i], cmap='gray')\n",
    "    plt.axis('off')\n",
    "plt.show()"
   ]
  },
  {
   "cell_type": "markdown",
   "id": "1111affa-aa81-4f3e-826c-a0f0d9ca6ac1",
   "metadata": {},
   "source": [
    "## Preprocess Data for SVM and KNN"
   ]
  },
  {
   "cell_type": "code",
   "execution_count": 4,
   "id": "e5a3fe04-a296-41f1-a106-08974986e249",
   "metadata": {},
   "outputs": [],
   "source": [
    "# Flatten images from 28x28 to 784 features\n",
    "X_train_flat = X_train.reshape(X_train.shape[0], -1)\n",
    "X_test_flat = X_test.reshape(X_test.shape[0], -1)\n",
    "\n",
    "# Normalize pixel values (0-255) to range (0-1)\n",
    "X_train_flat = X_train_flat / 255.0\n",
    "X_test_flat = X_test_flat / 255.0\n",
    "\n",
    "# Split training data into train and validation sets\n",
    "X_train_svm, X_val_svm, y_train_svm, y_val_svm = train_test_split(X_train_flat, y_train, test_size=0.2, random_state=42)"
   ]
  },
  {
   "cell_type": "markdown",
   "id": "6eb8b0c2-7f8c-4a0b-a57c-855bd1192f25",
   "metadata": {},
   "source": [
    "## Train and Evaluate SVM Model"
   ]
  },
  {
   "cell_type": "code",
   "execution_count": 5,
   "id": "89f878e9-dc42-48e3-9df0-26bc049a6647",
   "metadata": {},
   "outputs": [
    {
     "name": "stdout",
     "output_type": "stream",
     "text": [
      "SVM Accuracy: 0.9777\n",
      "Confusion Matrix:\n",
      " [[ 971    0    2    0    0    2    2    1    2    0]\n",
      " [   0 1126    3    1    0    1    1    1    2    0]\n",
      " [   5    2 1008    2    1    0    1    8    5    0]\n",
      " [   0    0    3  991    0    2    0    7    6    1]\n",
      " [   0    0    5    0  961    0    2    0    1   13]\n",
      " [   2    0    0    9    0  873    3    1    3    1]\n",
      " [   6    2    1    0    2    4  939    0    4    0]\n",
      " [   1    9   13    2    1    0    0  991    1   10]\n",
      " [   3    0    2    6    2    2    2    3  952    2]\n",
      " [   4    4    1    5   13    1    1    9    6  965]]\n",
      "Classification Report:\n",
      "               precision    recall  f1-score   support\n",
      "\n",
      "           0       0.98      0.99      0.98       980\n",
      "           1       0.99      0.99      0.99      1135\n",
      "           2       0.97      0.98      0.97      1032\n",
      "           3       0.98      0.98      0.98      1010\n",
      "           4       0.98      0.98      0.98       982\n",
      "           5       0.99      0.98      0.98       892\n",
      "           6       0.99      0.98      0.98       958\n",
      "           7       0.97      0.96      0.97      1028\n",
      "           8       0.97      0.98      0.97       974\n",
      "           9       0.97      0.96      0.96      1009\n",
      "\n",
      "    accuracy                           0.98     10000\n",
      "   macro avg       0.98      0.98      0.98     10000\n",
      "weighted avg       0.98      0.98      0.98     10000\n",
      "\n"
     ]
    }
   ],
   "source": [
    "# Train SVM classifier with RBF kernel\n",
    "svm_model = SVC(kernel='rbf')\n",
    "svm_model.fit(X_train_svm, y_train_svm)\n",
    "\n",
    "# Predict on test set\n",
    "y_pred_svm = svm_model.predict(X_test_flat)\n",
    "\n",
    "# Evaluate SVM model\n",
    "accuracy_svm = accuracy_score(y_test, y_pred_svm)\n",
    "print(\"SVM Accuracy:\", accuracy_svm)\n",
    "print(\"Confusion Matrix:\\n\", confusion_matrix(y_test, y_pred_svm))\n",
    "print(\"Classification Report:\\n\", classification_report(y_test, y_pred_svm))"
   ]
  },
  {
   "cell_type": "markdown",
   "id": "34818f1f-4817-4e28-b515-07581a886285",
   "metadata": {},
   "source": [
    "## Train and Evaluate KNN Model"
   ]
  },
  {
   "cell_type": "code",
   "execution_count": 6,
   "id": "b91c2c50-ce81-4cd1-92ed-3b9d4d4955d8",
   "metadata": {},
   "outputs": [
    {
     "name": "stdout",
     "output_type": "stream",
     "text": [
      "KNN Accuracy: 0.967\n",
      "Confusion Matrix:\n",
      " [[ 974    1    1    0    0    1    2    1    0    0]\n",
      " [   0 1131    2    1    0    0    1    0    0    0]\n",
      " [  12   10  983    2    1    0    1   17    6    0]\n",
      " [   0    3    3  976    1   13    1    5    4    4]\n",
      " [   2    7    0    0  942    0    4    1    1   25]\n",
      " [   4    0    0   11    2  864    6    1    1    3]\n",
      " [   5    3    0    0    3    3  944    0    0    0]\n",
      " [   0   23    4    0    3    0    0  988    0   10]\n",
      " [   8    4    4   16    6   15    2    8  907    4]\n",
      " [   5    7    3    5    9    5    1   11    2  961]]\n",
      "Classification Report:\n",
      "               precision    recall  f1-score   support\n",
      "\n",
      "           0       0.96      0.99      0.98       980\n",
      "           1       0.95      1.00      0.97      1135\n",
      "           2       0.98      0.95      0.97      1032\n",
      "           3       0.97      0.97      0.97      1010\n",
      "           4       0.97      0.96      0.97       982\n",
      "           5       0.96      0.97      0.96       892\n",
      "           6       0.98      0.99      0.98       958\n",
      "           7       0.96      0.96      0.96      1028\n",
      "           8       0.98      0.93      0.96       974\n",
      "           9       0.95      0.95      0.95      1009\n",
      "\n",
      "    accuracy                           0.97     10000\n",
      "   macro avg       0.97      0.97      0.97     10000\n",
      "weighted avg       0.97      0.97      0.97     10000\n",
      "\n"
     ]
    }
   ],
   "source": [
    "# Train KNN classifier with 5 neighbors\n",
    "knn_model = KNeighborsClassifier(n_neighbors=5)\n",
    "knn_model.fit(X_train_svm, y_train_svm)\n",
    "\n",
    "# Predict on test set\n",
    "y_pred_knn = knn_model.predict(X_test_flat)\n",
    "\n",
    "# Evaluate KNN model\n",
    "accuracy_knn = accuracy_score(y_test, y_pred_knn)\n",
    "print(\"KNN Accuracy:\", accuracy_knn)\n",
    "print(\"Confusion Matrix:\\n\", confusion_matrix(y_test, y_pred_knn))\n",
    "print(\"Classification Report:\\n\", classification_report(y_test, y_pred_knn))"
   ]
  },
  {
   "cell_type": "markdown",
   "id": "4183fcc2-ca3f-497e-84c2-01c84a3db83d",
   "metadata": {},
   "source": [
    "## Preprocess Data for Neural Network"
   ]
  },
  {
   "cell_type": "code",
   "execution_count": 7,
   "id": "d3107799-db9e-41a8-b978-75f9c35007d5",
   "metadata": {},
   "outputs": [],
   "source": [
    "# Normalize images for Neural Network\n",
    "X_train_nn = X_train / 255.0\n",
    "X_test_nn = X_test / 255.0"
   ]
  },
  {
   "cell_type": "markdown",
   "id": "ff6cbed9-c89f-4e95-b446-d1bffca62641",
   "metadata": {},
   "source": [
    "## Build and Train Neural Network Model"
   ]
  },
  {
   "cell_type": "code",
   "execution_count": 8,
   "id": "ddc6eec8-6230-42b7-b686-8d9b4beca2db",
   "metadata": {},
   "outputs": [
    {
     "name": "stderr",
     "output_type": "stream",
     "text": [
      "C:\\Users\\Abhishek\\anaconda3\\Lib\\site-packages\\keras\\src\\layers\\reshaping\\flatten.py:37: UserWarning: Do not pass an `input_shape`/`input_dim` argument to a layer. When using Sequential models, prefer using an `Input(shape)` object as the first layer in the model instead.\n",
      "  super().__init__(**kwargs)\n"
     ]
    },
    {
     "name": "stdout",
     "output_type": "stream",
     "text": [
      "Epoch 1/10\n",
      "\u001b[1m1875/1875\u001b[0m \u001b[32m━━━━━━━━━━━━━━━━━━━━\u001b[0m\u001b[37m\u001b[0m \u001b[1m14s\u001b[0m 6ms/step - accuracy: 0.8788 - loss: 0.4127 - val_accuracy: 0.9669 - val_loss: 0.1110\n",
      "Epoch 2/10\n",
      "\u001b[1m1875/1875\u001b[0m \u001b[32m━━━━━━━━━━━━━━━━━━━━\u001b[0m\u001b[37m\u001b[0m \u001b[1m10s\u001b[0m 5ms/step - accuracy: 0.9669 - loss: 0.1076 - val_accuracy: 0.9686 - val_loss: 0.1008\n",
      "Epoch 3/10\n",
      "\u001b[1m1875/1875\u001b[0m \u001b[32m━━━━━━━━━━━━━━━━━━━━\u001b[0m\u001b[37m\u001b[0m \u001b[1m14s\u001b[0m 7ms/step - accuracy: 0.9783 - loss: 0.0707 - val_accuracy: 0.9678 - val_loss: 0.1022\n",
      "Epoch 4/10\n",
      "\u001b[1m1875/1875\u001b[0m \u001b[32m━━━━━━━━━━━━━━━━━━━━\u001b[0m\u001b[37m\u001b[0m \u001b[1m12s\u001b[0m 6ms/step - accuracy: 0.9850 - loss: 0.0498 - val_accuracy: 0.9766 - val_loss: 0.0772\n",
      "Epoch 5/10\n",
      "\u001b[1m1875/1875\u001b[0m \u001b[32m━━━━━━━━━━━━━━━━━━━━\u001b[0m\u001b[37m\u001b[0m \u001b[1m19s\u001b[0m 5ms/step - accuracy: 0.9883 - loss: 0.0370 - val_accuracy: 0.9729 - val_loss: 0.0959\n",
      "Epoch 6/10\n",
      "\u001b[1m1875/1875\u001b[0m \u001b[32m━━━━━━━━━━━━━━━━━━━━\u001b[0m\u001b[37m\u001b[0m \u001b[1m10s\u001b[0m 5ms/step - accuracy: 0.9905 - loss: 0.0325 - val_accuracy: 0.9744 - val_loss: 0.0910\n",
      "Epoch 7/10\n",
      "\u001b[1m1875/1875\u001b[0m \u001b[32m━━━━━━━━━━━━━━━━━━━━\u001b[0m\u001b[37m\u001b[0m \u001b[1m23s\u001b[0m 7ms/step - accuracy: 0.9917 - loss: 0.0273 - val_accuracy: 0.9767 - val_loss: 0.0849\n",
      "Epoch 8/10\n",
      "\u001b[1m1875/1875\u001b[0m \u001b[32m━━━━━━━━━━━━━━━━━━━━\u001b[0m\u001b[37m\u001b[0m \u001b[1m11s\u001b[0m 6ms/step - accuracy: 0.9933 - loss: 0.0197 - val_accuracy: 0.9774 - val_loss: 0.0932\n",
      "Epoch 9/10\n",
      "\u001b[1m1875/1875\u001b[0m \u001b[32m━━━━━━━━━━━━━━━━━━━━\u001b[0m\u001b[37m\u001b[0m \u001b[1m14s\u001b[0m 8ms/step - accuracy: 0.9939 - loss: 0.0187 - val_accuracy: 0.9788 - val_loss: 0.0906\n",
      "Epoch 10/10\n",
      "\u001b[1m1875/1875\u001b[0m \u001b[32m━━━━━━━━━━━━━━━━━━━━\u001b[0m\u001b[37m\u001b[0m \u001b[1m12s\u001b[0m 6ms/step - accuracy: 0.9941 - loss: 0.0172 - val_accuracy: 0.9784 - val_loss: 0.0911\n"
     ]
    }
   ],
   "source": [
    "# Define neural network model\n",
    "model = keras.Sequential([\n",
    "    keras.layers.Flatten(input_shape=(28, 28)),  # Flatten 28x28 images\n",
    "    keras.layers.Dense(128, activation='relu'),  # First hidden layer\n",
    "    keras.layers.Dense(64, activation='relu'),   # Second hidden layer\n",
    "    keras.layers.Dense(10, activation='softmax') # Output layer (10 classes)\n",
    "])\n",
    "\n",
    "# Compile model\n",
    "model.compile(optimizer='adam', loss='sparse_categorical_crossentropy', metrics=['accuracy'])\n",
    "\n",
    "# Train neural network for 10 epochs\n",
    "history = model.fit(X_train_nn, y_train, epochs=10, validation_data=(X_test_nn, y_test))"
   ]
  },
  {
   "cell_type": "markdown",
   "id": "0b1c1883-6e45-4694-9f5c-30f35fbe402d",
   "metadata": {},
   "source": [
    "## Evaluate Neural Network"
   ]
  },
  {
   "cell_type": "code",
   "execution_count": 9,
   "id": "d6cd4cdf-84c3-48bf-a36c-8dae03074339",
   "metadata": {},
   "outputs": [
    {
     "name": "stdout",
     "output_type": "stream",
     "text": [
      "\u001b[1m313/313\u001b[0m \u001b[32m━━━━━━━━━━━━━━━━━━━━\u001b[0m\u001b[37m\u001b[0m \u001b[1m1s\u001b[0m 3ms/step - accuracy: 0.9757 - loss: 0.1035\n",
      "\n",
      "Neural Network Accuracy: 0.9783999919891357\n"
     ]
    }
   ],
   "source": [
    "# Evaluate model on test set\n",
    "test_loss, test_acc = model.evaluate(X_test_nn, y_test)\n",
    "print(\"\\nNeural Network Accuracy:\", test_acc)"
   ]
  },
  {
   "cell_type": "markdown",
   "id": "0f027cd5-3524-41aa-88dc-fe6f34351f9f",
   "metadata": {},
   "source": [
    "## Plot Training Accuracy Over Epochs"
   ]
  },
  {
   "cell_type": "code",
   "execution_count": 10,
   "id": "651511e2-847b-4eaa-bc0a-d3eff7d667be",
   "metadata": {},
   "outputs": [
    {
     "data": {
      "image/png": "[encoded data removed]",
      "text/plain": [
       "<Figure size 640x480 with 1 Axes>"
      ]
     },
     "metadata": {},
     "output_type": "display_data"
    }
   ],
   "source": [
    "# Plot accuracy over epochs\n",
    "plt.plot(history.history['accuracy'], label='Train Accuracy')\n",
    "plt.plot(history.history['val_accuracy'], label='Validation Accuracy')\n",
    "plt.xlabel('Epochs')\n",
    "plt.ylabel('Accuracy')\n",
    "plt.legend()\n",
    "plt.show()"
   ]
  },
  {
   "cell_type": "markdown",
   "id": "49cd0bda-ff36-431c-a8eb-6b58682781a0",
   "metadata": {},
   "source": [
    "## Compare Model Performance"
   ]
  },
  {
   "cell_type": "code",
   "execution_count": 12,
   "id": "b50c0142-7d4c-486e-8427-1d3192043615",
   "metadata": {},
   "outputs": [
    {
     "data": {
      "image/png": "[encoded data removed]",
      "text/plain": [
       "<Figure size 640x480 with 1 Axes>"
      ]
     },
     "metadata": {},
     "output_type": "display_data"
    },
    {
     "name": "stdout",
     "output_type": "stream",
     "text": [
      "Model Performance Comparison: SVM: 0.9777 KNN: 0.967 Neural Network: 0.9783999919891357\n"
     ]
    }
   ],
   "source": [
    "# Compare SVM, KNN, and Neural Network accuracy\n",
    "models = ['SVM', 'KNN', 'Neural Network']\n",
    "accuracies = [accuracy_svm, accuracy_knn, test_acc]\n",
    "\n",
    "# Plot accuracy comparison\n",
    "plt.bar(models, accuracies, color=['blue', 'green', 'red'])\n",
    "plt.xlabel('Models')\n",
    "plt.ylabel('Accuracy')\n",
    "plt.title('Model Performance Comparison')\n",
    "plt.ylim(0, 1)\n",
    "plt.show()\n",
    "\n",
    "print(\"Model Performance Comparison:\", \"SVM:\",accuracy_svm, \"KNN:\",accuracy_knn, \"Neural Network:\",test_acc)"
   ]
  },
  {
   "cell_type": "code",
   "execution_count": null,
   "id": "871bbedc-46f3-4240-b08a-d347e9961bba",
   "metadata": {},
   "outputs": [],
   "source": []
  },
  {
   "cell_type": "code",
   "execution_count": null,
   "id": "787d8633-114e-4211-b17b-ac44367d25e5",
   "metadata": {},
   "outputs": [],
   "source": []
  }
 ],
 "metadata": {
  "kernelspec": {
   "display_name": "Python 3 (ipykernel)",
   "language": "python",
   "name": "python3"
  },
  "language_info": {
   "codemirror_mode": {
    "name": "ipython",
    "version": 3
   },
   "file_extension": ".py",
   "mimetype": "text/x-python",
   "name": "python",
   "nbconvert_exporter": "python",
   "pygments_lexer": "ipython3",
   "version": "3.11.7"
  }
 },
 "nbformat": 4,
 "nbformat_minor": 5
}
